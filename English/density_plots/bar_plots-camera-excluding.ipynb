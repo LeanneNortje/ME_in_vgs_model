{
 "cells": [
  {
   "cell_type": "code",
   "execution_count": 1,
   "id": "8b89cb7e",
   "metadata": {},
   "outputs": [],
   "source": [
    "import matplotlib.pyplot as plt\n",
    "import numpy as np\n",
    "import csv\n",
    "from pathlib import Path\n",
    "import seaborn as sns\n",
    "import pandas as pd"
   ]
  },
  {
   "cell_type": "code",
   "execution_count": 2,
   "id": "64f4347a",
   "metadata": {},
   "outputs": [],
   "source": [
    "from matplotlib import rc\n",
    "rc('text', usetex=True)\n",
    "rc('font', serif='Times')"
   ]
  },
  {
   "cell_type": "code",
   "execution_count": 3,
   "id": "e223f053",
   "metadata": {},
   "outputs": [],
   "source": [
    "name = ''\n",
    "name += '_cpc'\n",
    "name += '_alexnet'\n",
    "name += f'_{\"1\"}'\n",
    "keyword = 'camera'"
   ]
  },
  {
   "cell_type": "code",
   "execution_count": 4,
   "id": "ea8f7b68",
   "metadata": {},
   "outputs": [],
   "source": [
    "def readSimilarity(fn, column_name):\n",
    "    \n",
    "    val = []\n",
    "    \n",
    "    with open(fn, 'r') as file:\n",
    "        csvreader = csv.reader(file)\n",
    "        for n, row in enumerate(csvreader):\n",
    "#             print(row)\n",
    "            if n == 0:\n",
    "                ind = np.where(np.asarray(row) == column_name)[0][0]\n",
    "            else:\n",
    "                if keyword in row[1]:\n",
    "                    val.append(float(row[ind]))\n",
    "                \n",
    "    return val\n",
    "\n",
    "def readSimilarityOther(fn, column_name):\n",
    "    \n",
    "    val = []\n",
    "    \n",
    "    with open(fn, 'r') as file:\n",
    "        csvreader = csv.reader(file)\n",
    "        for n, row in enumerate(csvreader):\n",
    "#             print(row)\n",
    "            if n == 0:\n",
    "                ind = np.where(np.asarray(row) == column_name)[0][0]\n",
    "            else:\n",
    "                if keyword in row[1] and keyword not in row[2]:\n",
    "                    val.append(float(row[ind]))\n",
    "                \n",
    "    return val\n",
    "\n",
    "def readSimilarityFamiliar(fn, column_name):\n",
    "    \n",
    "    val = []\n",
    "    \n",
    "    with open(fn, 'r') as file:\n",
    "        csvreader = csv.reader(file)\n",
    "        for n, row in enumerate(csvreader):\n",
    "#             print(row)\n",
    "            if n == 0:\n",
    "                ind = np.where(np.asarray(row) == column_name)[0][0]\n",
    "            else:\n",
    "                if keyword in row[1]:\n",
    "                    val.append(float(row[ind]))\n",
    "                \n",
    "    return val\n",
    "\n",
    "def readSimilarityFamiliarExcluding(fn, column_name, exclude):\n",
    "    \n",
    "    val = []\n",
    "    \n",
    "    with open(fn, 'r') as file:\n",
    "        csvreader = csv.reader(file)\n",
    "        for n, row in enumerate(csvreader):\n",
    "#             print(row)\n",
    "            if n == 0:\n",
    "                ind = np.where(np.asarray(row) == column_name)[0][0]\n",
    "            else:\n",
    "                flag = True\n",
    "                for w in exclude: \n",
    "                    if w in row[3]: \n",
    "                        flag = False\n",
    "                if keyword in row[1] and flag:\n",
    "                    val.append(float(row[ind]))\n",
    "                \n",
    "    return val"
   ]
  },
  {
   "cell_type": "code",
   "execution_count": 5,
   "id": "84fcd416",
   "metadata": {},
   "outputs": [],
   "source": [
    "palette = {}\n",
    "data = []"
   ]
  },
  {
   "cell_type": "code",
   "execution_count": 6,
   "id": "24915224",
   "metadata": {},
   "outputs": [],
   "source": [
    "# unseen->unseen\n",
    "label_name = r'C: Camera audio -- Camera image'\n",
    "palette[label_name] = 'tab:green'\n",
    "unseen_to_unseen = readSimilarity(Path(f'me_analysis{name}.csv'), 'similarity_A')\n",
    "data.extend([[label_name, v] for v in unseen_to_unseen])\n",
    "label_name = r'E: Camera audio -- novel image (not camera)'\n",
    "palette[label_name] = 'tab:blue'\n",
    "mismatched_unseen_to_unseen = readSimilarityOther(Path(f'me_mismatched_analysis{name}.csv'), 'similarity_A')\n",
    "data.extend([[label_name, v] for v in mismatched_unseen_to_unseen])"
   ]
  },
  {
   "cell_type": "code",
   "execution_count": 7,
   "id": "2dc66941",
   "metadata": {},
   "outputs": [],
   "source": [
    "# unseen->seen\n",
    "label_name = r'D: Camera audio -- familiar image'\n",
    "palette[label_name] = 'tab:red'\n",
    "unseen_to_seen = readSimilarityFamiliar(Path(f'me_analysis{name}.csv'), 'similarity_B')\n",
    "data.extend([[label_name, v]  for v in unseen_to_seen])\n",
    "# label_name = r'F: Camera audio -- familiar image excluding cat, clock and elephant'\n",
    "# palette[label_name] = 'tab:orange'\n",
    "# unseen_to_seen = readSimilarityFamiliarExcluding(Path(f'me_analysis{name}.csv'), 'similarity_B', ['cat', 'clock', 'elephant'])\n",
    "# data.extend([[label_name, v]  for v in unseen_to_seen])"
   ]
  },
  {
   "cell_type": "code",
   "execution_count": 8,
   "id": "512686d9",
   "metadata": {},
   "outputs": [],
   "source": [
    "df = pd.DataFrame(data, columns=[\"label\", \"Similarity score\"]\n",
    ")"
   ]
  },
  {
   "cell_type": "code",
   "execution_count": 10,
   "id": "586ae321",
   "metadata": {},
   "outputs": [
    {
     "data": {
      "text/plain": [
       "[Text(0, 0.5, '')]"
      ]
     },
     "execution_count": 10,
     "metadata": {},
     "output_type": "execute_result"
    },
    {
     "data": {
      "image/png": "[encoded data removed]",
      "text/plain": [
       "<Figure size 576x360 with 1 Axes>"
      ]
     },
     "metadata": {},
     "output_type": "display_data"
    }
   ],
   "source": [
    "fig = plt.figure(figsize=(8, 5))\n",
    "sns.set_style(style='white')\n",
    "f = sns.boxplot(\n",
    "    data=df, x=\"Similarity score\", y=\"label\",\n",
    "    # common_norm=False, legend=True, linewidth=2.5, palette=palette, log_scale=False,\n",
    ")\n",
    "\n",
    "# f.set(xticklabels=[])\n",
    "f.set(ylabel=None)"
   ]
  },
  {
   "cell_type": "code",
   "execution_count": null,
   "id": "4388b6fc",
   "metadata": {},
   "outputs": [],
   "source": []
  },
  {
   "cell_type": "code",
   "execution_count": null,
   "id": "42ce46cb",
   "metadata": {},
   "outputs": [],
   "source": []
  },
  {
   "cell_type": "code",
   "execution_count": null,
   "id": "c5cc85ad",
   "metadata": {},
   "outputs": [],
   "source": []
  }
 ],
 "metadata": {
  "kernelspec": {
   "display_name": "Python 3 (ipykernel)",
   "language": "python",
   "name": "python3"
  },
  "language_info": {
   "codemirror_mode": {
    "name": "ipython",
    "version": 3
   },
   "file_extension": ".py",
   "mimetype": "text/x-python",
   "name": "python",
   "nbconvert_exporter": "python",
   "pygments_lexer": "ipython3",
   "version": "3.9.12"
  }
 },
 "nbformat": 4,
 "nbformat_minor": 5
}

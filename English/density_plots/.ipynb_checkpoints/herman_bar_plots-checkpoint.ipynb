{
 "cells": [
  {
   "cell_type": "code",
   "execution_count": 1,
   "id": "8b89cb7e",
   "metadata": {},
   "outputs": [],
   "source": [
    "import matplotlib.pyplot as plt\n",
    "import numpy as np\n",
    "import csv\n",
    "from pathlib import Path\n",
    "import seaborn as sns\n",
    "import pandas as pd"
   ]
  },
  {
   "cell_type": "code",
   "execution_count": 2,
   "id": "64f4347a",
   "metadata": {},
   "outputs": [],
   "source": [
    "from matplotlib import rc\n",
    "rc('text', usetex=True)\n",
    "rc('font', serif='Times')"
   ]
  },
  {
   "cell_type": "code",
   "execution_count": 3,
   "id": "6be139fb",
   "metadata": {},
   "outputs": [],
   "source": [
    "name = ''\n",
    "name += '_cpc'\n",
    "name += '_alexnet'\n",
    "name += f'_{\"1\"}'"
   ]
  },
  {
   "cell_type": "code",
   "execution_count": 4,
   "id": "ea8f7b68",
   "metadata": {},
   "outputs": [],
   "source": [
    "def readSimilarity(fn, column_name):\n",
    "    \n",
    "    val = []\n",
    "    \n",
    "    with open(fn, 'r') as file:\n",
    "        csvreader = csv.reader(file)\n",
    "        for n, row in enumerate(csvreader):\n",
    "            if n == 0:\n",
    "                ind = np.where(np.asarray(row) == column_name)[0][0]\n",
    "            else:\n",
    "                val.append(float(row[ind]))\n",
    "                \n",
    "    return val"
   ]
  },
  {
   "cell_type": "code",
   "execution_count": 5,
   "id": "84fcd416",
   "metadata": {},
   "outputs": [],
   "source": [
    "palette = {}\n",
    "data = []"
   ]
  },
  {
   "cell_type": "code",
   "execution_count": 6,
   "id": "c234c881",
   "metadata": {},
   "outputs": [],
   "source": [
    "# seen matched\n",
    "label_name = r'A: Familiar audio -- familiar image'\n",
    "palette[label_name] = '#7353ba'\n",
    "seen_matched = readSimilarity(Path(f'familiar_analysis{name}.csv'), 'similarity_A')\n",
    "data = [[label_name, v] for v in seen_matched]"
   ]
  },
  {
   "cell_type": "code",
   "execution_count": 7,
   "id": "0325ba5a",
   "metadata": {},
   "outputs": [],
   "source": [
    "# seen mismatched\n",
    "label_name = r'B: Familiar audio -- familiar$^*$ image'\n",
    "palette[label_name] = '#edc531'\n",
    "seen_mismatched = readSimilarity(Path(f'familiar_mismatched_analysis{name}.csv'), 'similarity_A')\n",
    "data.extend([[label_name, v] for v in seen_mismatched])"
   ]
  },
  {
   "cell_type": "code",
   "execution_count": 8,
   "id": "9d1ef341-2869-4226-8f32-b7c58918afeb",
   "metadata": {},
   "outputs": [
    {
     "data": {
      "text/plain": [
       "\"\\n# Seen mismatched (alternative)\\nlabel_name = r'Familiar audio -- familiar$^*$ image'\\npalette[label_name] = 'tab:red'\\nseen_mismatched = readSimilarity(Path(f'familiar_analysis{name}.csv'), 'similarity_B')\\ndata.extend([[label_name, v] for v in seen_mismatched])\\n\""
      ]
     },
     "execution_count": 8,
     "metadata": {},
     "output_type": "execute_result"
    }
   ],
   "source": [
    "\"\"\"\n",
    "# Seen mismatched (alternative)\n",
    "label_name = r'Familiar audio -- familiar$^*$ image'\n",
    "palette[label_name] = 'tab:red'\n",
    "seen_mismatched = readSimilarity(Path(f'familiar_analysis{name}.csv'), 'similarity_B')\n",
    "data.extend([[label_name, v] for v in seen_mismatched])\n",
    "\"\"\""
   ]
  },
  {
   "cell_type": "code",
   "execution_count": 9,
   "id": "24915224",
   "metadata": {},
   "outputs": [],
   "source": [
    "# unseen->unseen\n",
    "label_name = r'C: Novel audio -- novel image'\n",
    "palette[label_name] = '#629460'\n",
    "unseen_to_unseen = readSimilarity(Path(f'me_analysis{name}.csv'), 'similarity_A')\n",
    "data.extend([[label_name, v] for v in unseen_to_unseen])\n",
    "mismatched_unseen_to_unseen = readSimilarity(Path(f'me_mismatched_analysis{name}.csv'), 'similarity_A')\n",
    "data.extend([[label_name, v] for v in mismatched_unseen_to_unseen])"
   ]
  },
  {
   "cell_type": "code",
   "execution_count": 10,
   "id": "2dc66941",
   "metadata": {},
   "outputs": [],
   "source": [
    "# unseen->seen\n",
    "label_name = r'D: Novel audio -- familiar image'\n",
    "palette[label_name] = '#4a8fe7'\n",
    "unseen_to_seen = readSimilarity(Path(f'me_analysis{name}.csv'), 'similarity_B')\n",
    "data.extend([[label_name, v]  for v in unseen_to_seen])\n",
    "mismatched_unseen_to_seen = readSimilarity(Path(f'me_mismatched_analysis{name}.csv'), 'similarity_B')\n",
    "data.extend([[label_name, v] for v in mismatched_unseen_to_seen])"
   ]
  },
  {
   "cell_type": "code",
   "execution_count": 11,
   "id": "512686d9",
   "metadata": {},
   "outputs": [],
   "source": [
    "df = pd.DataFrame(data, columns=[\"label\", \"Similarity score\"])"
   ]
  },
  {
   "cell_type": "code",
   "execution_count": 12,
   "id": "586ae321",
   "metadata": {},
   "outputs": [],
   "source": [
    "# fig = plt.figure(figsize=(15, 5))\n",
    "# sns.set_style(style='white')\n",
    "# f = sns.kdeplot(\n",
    "#     df, x=\"Similarity score\", hue=\"label\", common_norm=False, legend=True, linewidth=2.5, \n",
    "#     palette=palette, log_scale=False,\n",
    "# )\n",
    "\n",
    "# lss = [':', '-', ':', '-']\n",
    "\n",
    "# handles = f.legend_.legendHandles[::-1]\n",
    "\n",
    "# for line, ls, handle in zip(f.lines, lss, handles):\n",
    "#     line.set_linestyle(ls)\n",
    "#     handle.set_ls(ls)\n",
    "    \n",
    "# subs = f.lines\n",
    "# nums = ['D', 'C', 'B', 'A']\n",
    "# for i in range(len(subs)):\n",
    "#     x = subs[i].get_xdata() \n",
    "#     y = subs[i].get_ydata() \n",
    "#     c = subs[i].get_color()\n",
    "#     maxid = np.argmax(y) \n",
    "    \n",
    "#     plt.annotate(f'{nums[i]}', (x[maxid]-1, y[maxid]+0.0005), c=c, fontsize=30, ha='center', annotation_clip=False)\n",
    "\n",
    "# sns.move_legend(f, \"lower center\", ncol=2, bbox_to_anchor=(0.5, -0.6), title='', frameon=True, fontsize=22)\n",
    "# start = -10\n",
    "# end = 100\n",
    "# # plt.xlim(start, end)\n",
    "# xs = []\n",
    "# for i in range(start, end+10, 10):\n",
    "#     xs.append(i)\n",
    "# # xs = [0, 10, 20, 30, 40, 50, 60, 70, 80, 90, 100, 110, 120, 130, 140, 150]\n",
    "# plt.xticks(xs, fontsize=20)\n",
    "# plt.yticks(fontsize=20)\n",
    "# plt.ylabel('Density', fontsize=26, labelpad=24)\n",
    "# plt.xlabel('Similarity', fontsize=26, labelpad=24)\n",
    "# axes = plt.gca()\n",
    "# axes.spines[['top', 'right']].set_visible(False) \n",
    "# plt.savefig(f'similarity_densities{name}.pdf',bbox_inches='tight')"
   ]
  },
  {
   "cell_type": "code",
   "execution_count": 13,
   "id": "4388b6fc",
   "metadata": {},
   "outputs": [
    {
     "ename": "TypeError",
     "evalue": "boxplot() got an unexpected keyword argument 'legend'",
     "output_type": "error",
     "traceback": [
      "\u001b[0;31m---------------------------------------------------------------------------\u001b[0m",
      "\u001b[0;31mTypeError\u001b[0m                                 Traceback (most recent call last)",
      "Input \u001b[0;32mIn [13]\u001b[0m, in \u001b[0;36m<cell line: 3>\u001b[0;34m()\u001b[0m\n\u001b[1;32m      1\u001b[0m fig \u001b[38;5;241m=\u001b[39m plt\u001b[38;5;241m.\u001b[39mfigure(figsize\u001b[38;5;241m=\u001b[39m(\u001b[38;5;241m8\u001b[39m, \u001b[38;5;241m5\u001b[39m))\n\u001b[1;32m      2\u001b[0m sns\u001b[38;5;241m.\u001b[39mset_style(style\u001b[38;5;241m=\u001b[39m\u001b[38;5;124m'\u001b[39m\u001b[38;5;124mwhite\u001b[39m\u001b[38;5;124m'\u001b[39m)\n\u001b[0;32m----> 3\u001b[0m f \u001b[38;5;241m=\u001b[39m \u001b[43msns\u001b[49m\u001b[38;5;241;43m.\u001b[39;49m\u001b[43mboxplot\u001b[49m\u001b[43m(\u001b[49m\n\u001b[1;32m      4\u001b[0m \u001b[43m    \u001b[49m\u001b[43mdata\u001b[49m\u001b[38;5;241;43m=\u001b[39;49m\u001b[43mdf\u001b[49m\u001b[43m,\u001b[49m\u001b[43m \u001b[49m\u001b[43mx\u001b[49m\u001b[38;5;241;43m=\u001b[39;49m\u001b[38;5;124;43m\"\u001b[39;49m\u001b[38;5;124;43mSimilarity score\u001b[39;49m\u001b[38;5;124;43m\"\u001b[39;49m\u001b[43m,\u001b[49m\u001b[43m \u001b[49m\u001b[43my\u001b[49m\u001b[38;5;241;43m=\u001b[39;49m\u001b[38;5;124;43m\"\u001b[39;49m\u001b[38;5;124;43mlabel\u001b[39;49m\u001b[38;5;124;43m\"\u001b[39;49m\u001b[43m,\u001b[49m\n\u001b[1;32m      5\u001b[0m \u001b[43m    \u001b[49m\u001b[38;5;66;43;03m# common_norm=False, \u001b[39;49;00m\n\u001b[1;32m      6\u001b[0m \u001b[43m    \u001b[49m\u001b[43mlegend\u001b[49m\u001b[38;5;241;43m=\u001b[39;49m\u001b[38;5;124;43m\"\u001b[39;49m\u001b[38;5;124;43mbrief\u001b[39;49m\u001b[38;5;124;43m\"\u001b[39;49m\u001b[43m,\u001b[49m\n\u001b[1;32m      7\u001b[0m \u001b[38;5;66;43;03m#     labels=['A', 'B', 'C', 'D'], \u001b[39;49;00m\n\u001b[1;32m      8\u001b[0m \u001b[38;5;66;43;03m#     linewidth=2.5, \u001b[39;49;00m\n\u001b[1;32m      9\u001b[0m \u001b[43m    \u001b[49m\u001b[43mpalette\u001b[49m\u001b[38;5;241;43m=\u001b[39;49m\u001b[43mpalette\u001b[49m\u001b[43m,\u001b[49m\u001b[43m \u001b[49m\n\u001b[1;32m     10\u001b[0m \u001b[38;5;66;43;03m#     log_scale=False,\u001b[39;49;00m\n\u001b[1;32m     11\u001b[0m \u001b[43m)\u001b[49m\n\u001b[1;32m     12\u001b[0m handles, _ \u001b[38;5;241m=\u001b[39m f\u001b[38;5;241m.\u001b[39mget_legend_handles_labels()          \u001b[38;5;66;03m# Get the artists.\u001b[39;00m\n\u001b[1;32m     13\u001b[0m f\u001b[38;5;241m.\u001b[39mlegend(handles, [\u001b[38;5;124m\"\u001b[39m\u001b[38;5;124mlabel1\u001b[39m\u001b[38;5;124m\"\u001b[39m, \u001b[38;5;124m\"\u001b[39m\u001b[38;5;124mlabel2\u001b[39m\u001b[38;5;124m\"\u001b[39m], loc\u001b[38;5;241m=\u001b[39m\u001b[38;5;124m\"\u001b[39m\u001b[38;5;124mbest\u001b[39m\u001b[38;5;124m\"\u001b[39m)\n",
      "File \u001b[0;32m~/anaconda3/lib/python3.9/site-packages/seaborn/categorical.py:2239\u001b[0m, in \u001b[0;36mboxplot\u001b[0;34m(data, x, y, hue, order, hue_order, orient, color, palette, saturation, width, dodge, fliersize, linewidth, whis, ax, **kwargs)\u001b[0m\n\u001b[1;32m   2236\u001b[0m     ax \u001b[38;5;241m=\u001b[39m plt\u001b[38;5;241m.\u001b[39mgca()\n\u001b[1;32m   2237\u001b[0m kwargs\u001b[38;5;241m.\u001b[39mupdate(\u001b[38;5;28mdict\u001b[39m(whis\u001b[38;5;241m=\u001b[39mwhis))\n\u001b[0;32m-> 2239\u001b[0m \u001b[43mplotter\u001b[49m\u001b[38;5;241;43m.\u001b[39;49m\u001b[43mplot\u001b[49m\u001b[43m(\u001b[49m\u001b[43max\u001b[49m\u001b[43m,\u001b[49m\u001b[43m \u001b[49m\u001b[43mkwargs\u001b[49m\u001b[43m)\u001b[49m\n\u001b[1;32m   2240\u001b[0m \u001b[38;5;28;01mreturn\u001b[39;00m ax\n",
      "File \u001b[0;32m~/anaconda3/lib/python3.9/site-packages/seaborn/categorical.py:888\u001b[0m, in \u001b[0;36m_BoxPlotter.plot\u001b[0;34m(self, ax, boxplot_kws)\u001b[0m\n\u001b[1;32m    886\u001b[0m \u001b[38;5;28;01mdef\u001b[39;00m \u001b[38;5;21mplot\u001b[39m(\u001b[38;5;28mself\u001b[39m, ax, boxplot_kws):\n\u001b[1;32m    887\u001b[0m \u001b[38;5;250m    \u001b[39m\u001b[38;5;124;03m\"\"\"Make the plot.\"\"\"\u001b[39;00m\n\u001b[0;32m--> 888\u001b[0m     \u001b[38;5;28;43mself\u001b[39;49m\u001b[38;5;241;43m.\u001b[39;49m\u001b[43mdraw_boxplot\u001b[49m\u001b[43m(\u001b[49m\u001b[43max\u001b[49m\u001b[43m,\u001b[49m\u001b[43m \u001b[49m\u001b[43mboxplot_kws\u001b[49m\u001b[43m)\u001b[49m\n\u001b[1;32m    889\u001b[0m     \u001b[38;5;28mself\u001b[39m\u001b[38;5;241m.\u001b[39mannotate_axes(ax)\n\u001b[1;32m    890\u001b[0m     \u001b[38;5;28;01mif\u001b[39;00m \u001b[38;5;28mself\u001b[39m\u001b[38;5;241m.\u001b[39morient \u001b[38;5;241m==\u001b[39m \u001b[38;5;124m\"\u001b[39m\u001b[38;5;124mh\u001b[39m\u001b[38;5;124m\"\u001b[39m:\n",
      "File \u001b[0;32m~/anaconda3/lib/python3.9/site-packages/seaborn/categorical.py:820\u001b[0m, in \u001b[0;36m_BoxPlotter.draw_boxplot\u001b[0;34m(self, ax, kws)\u001b[0m\n\u001b[1;32m    817\u001b[0m \u001b[38;5;28;01mif\u001b[39;00m box_data\u001b[38;5;241m.\u001b[39msize \u001b[38;5;241m==\u001b[39m \u001b[38;5;241m0\u001b[39m:\n\u001b[1;32m    818\u001b[0m     \u001b[38;5;28;01mcontinue\u001b[39;00m\n\u001b[0;32m--> 820\u001b[0m artist_dict \u001b[38;5;241m=\u001b[39m \u001b[43max\u001b[49m\u001b[38;5;241;43m.\u001b[39;49m\u001b[43mboxplot\u001b[49m\u001b[43m(\u001b[49m\u001b[43mbox_data\u001b[49m\u001b[43m,\u001b[49m\n\u001b[1;32m    821\u001b[0m \u001b[43m                         \u001b[49m\u001b[43mvert\u001b[49m\u001b[38;5;241;43m=\u001b[39;49m\u001b[43mvert\u001b[49m\u001b[43m,\u001b[49m\n\u001b[1;32m    822\u001b[0m \u001b[43m                         \u001b[49m\u001b[43mpatch_artist\u001b[49m\u001b[38;5;241;43m=\u001b[39;49m\u001b[38;5;28;43;01mTrue\u001b[39;49;00m\u001b[43m,\u001b[49m\n\u001b[1;32m    823\u001b[0m \u001b[43m                         \u001b[49m\u001b[43mpositions\u001b[49m\u001b[38;5;241;43m=\u001b[39;49m\u001b[43m[\u001b[49m\u001b[43mi\u001b[49m\u001b[43m]\u001b[49m\u001b[43m,\u001b[49m\n\u001b[1;32m    824\u001b[0m \u001b[43m                         \u001b[49m\u001b[43mwidths\u001b[49m\u001b[38;5;241;43m=\u001b[39;49m\u001b[38;5;28;43mself\u001b[39;49m\u001b[38;5;241;43m.\u001b[39;49m\u001b[43mwidth\u001b[49m\u001b[43m,\u001b[49m\n\u001b[1;32m    825\u001b[0m \u001b[43m                         \u001b[49m\u001b[38;5;241;43m*\u001b[39;49m\u001b[38;5;241;43m*\u001b[39;49m\u001b[43mkws\u001b[49m\u001b[43m)\u001b[49m\n\u001b[1;32m    826\u001b[0m color \u001b[38;5;241m=\u001b[39m \u001b[38;5;28mself\u001b[39m\u001b[38;5;241m.\u001b[39mcolors[i]\n\u001b[1;32m    827\u001b[0m \u001b[38;5;28mself\u001b[39m\u001b[38;5;241m.\u001b[39mrestyle_boxplot(artist_dict, color, props)\n",
      "File \u001b[0;32m~/anaconda3/lib/python3.9/site-packages/matplotlib/__init__.py:1412\u001b[0m, in \u001b[0;36m_preprocess_data.<locals>.inner\u001b[0;34m(ax, data, *args, **kwargs)\u001b[0m\n\u001b[1;32m   1409\u001b[0m \u001b[38;5;129m@functools\u001b[39m\u001b[38;5;241m.\u001b[39mwraps(func)\n\u001b[1;32m   1410\u001b[0m \u001b[38;5;28;01mdef\u001b[39;00m \u001b[38;5;21minner\u001b[39m(ax, \u001b[38;5;241m*\u001b[39margs, data\u001b[38;5;241m=\u001b[39m\u001b[38;5;28;01mNone\u001b[39;00m, \u001b[38;5;241m*\u001b[39m\u001b[38;5;241m*\u001b[39mkwargs):\n\u001b[1;32m   1411\u001b[0m     \u001b[38;5;28;01mif\u001b[39;00m data \u001b[38;5;129;01mis\u001b[39;00m \u001b[38;5;28;01mNone\u001b[39;00m:\n\u001b[0;32m-> 1412\u001b[0m         \u001b[38;5;28;01mreturn\u001b[39;00m \u001b[43mfunc\u001b[49m\u001b[43m(\u001b[49m\u001b[43max\u001b[49m\u001b[43m,\u001b[49m\u001b[43m \u001b[49m\u001b[38;5;241;43m*\u001b[39;49m\u001b[38;5;28;43mmap\u001b[39;49m\u001b[43m(\u001b[49m\u001b[43msanitize_sequence\u001b[49m\u001b[43m,\u001b[49m\u001b[43m \u001b[49m\u001b[43margs\u001b[49m\u001b[43m)\u001b[49m\u001b[43m,\u001b[49m\u001b[43m \u001b[49m\u001b[38;5;241;43m*\u001b[39;49m\u001b[38;5;241;43m*\u001b[39;49m\u001b[43mkwargs\u001b[49m\u001b[43m)\u001b[49m\n\u001b[1;32m   1414\u001b[0m     bound \u001b[38;5;241m=\u001b[39m new_sig\u001b[38;5;241m.\u001b[39mbind(ax, \u001b[38;5;241m*\u001b[39margs, \u001b[38;5;241m*\u001b[39m\u001b[38;5;241m*\u001b[39mkwargs)\n\u001b[1;32m   1415\u001b[0m     auto_label \u001b[38;5;241m=\u001b[39m (bound\u001b[38;5;241m.\u001b[39marguments\u001b[38;5;241m.\u001b[39mget(label_namer)\n\u001b[1;32m   1416\u001b[0m                   \u001b[38;5;129;01mor\u001b[39;00m bound\u001b[38;5;241m.\u001b[39mkwargs\u001b[38;5;241m.\u001b[39mget(label_namer))\n",
      "\u001b[0;31mTypeError\u001b[0m: boxplot() got an unexpected keyword argument 'legend'"
     ]
    },
    {
     "data": {
      "image/png": "[encoded data removed]",
      "text/plain": [
       "<Figure size 576x360 with 1 Axes>"
      ]
     },
     "metadata": {
      "needs_background": "light"
     },
     "output_type": "display_data"
    }
   ],
   "source": [
    "fig = plt.figure(figsize=(8, 5))\n",
    "sns.set_style(style='white')\n",
    "f = sns.boxplot(\n",
    "    data=df, x=\"Similarity score\", y=\"label\",\n",
    "    # common_norm=False, \n",
    "    legend=\"brief\",\n",
    "#     labels=['A', 'B', 'C', 'D'], \n",
    "#     linewidth=2.5, \n",
    "    palette=palette, \n",
    "#     log_scale=False,\n",
    ")\n",
    "handles, _ = f.get_legend_handles_labels()          # Get the artists.\n",
    "f.legend(handles, [\"label1\", \"label2\"], loc=\"best\")\n",
    "# hatches = [\"o\", \"+\", \"o\", \"+\"]\n",
    "# for i, patch in enumerate(f.patches):\n",
    "#     patch.set_color('red')\n",
    "#     patch.set_facecolor('black')\n",
    "#     patch.set_fill(False)\n",
    "#     patch.set_hatch(hatches[i])\n",
    "\n",
    "f.set(xticklabels=[])\n",
    "f.set(ylabel=None)\n",
    "plt.yticks(fontsize=20)\n",
    "plt.xlabel('Similarity scores', fontsize=20)\n",
    "plt.xlim(-10, 100)\n",
    "# f.legend(loc='best')\n",
    "axes = plt.gca()\n",
    "axes.spines[['top', 'right']].set_visible(False) \n",
    "plt.savefig(f'similarity_box_plots{name}.pdf',bbox_inches='tight')"
   ]
  },
  {
   "cell_type": "code",
   "execution_count": null,
   "id": "b08bd750",
   "metadata": {},
   "outputs": [],
   "source": []
  }
 ],
 "metadata": {
  "kernelspec": {
   "display_name": "Python 3 (ipykernel)",
   "language": "python",
   "name": "python3"
  },
  "language_info": {
   "codemirror_mode": {
    "name": "ipython",
    "version": 3
   },
   "file_extension": ".py",
   "mimetype": "text/x-python",
   "name": "python",
   "nbconvert_exporter": "python",
   "pygments_lexer": "ipython3",
   "version": "3.9.12"
  }
 },
 "nbformat": 4,
 "nbformat_minor": 5
}

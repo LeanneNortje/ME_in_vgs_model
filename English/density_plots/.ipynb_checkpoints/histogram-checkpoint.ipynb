{
 "cells": [
  {
   "cell_type": "code",
   "execution_count": 1,
   "id": "8b89cb7e",
   "metadata": {},
   "outputs": [],
   "source": [
    "import matplotlib.pyplot as plt\n",
    "import numpy as np\n",
    "import csv\n",
    "from pathlib import Path\n",
    "import seaborn as sns\n",
    "import pandas as pd"
   ]
  },
  {
   "cell_type": "code",
   "execution_count": 2,
   "id": "64f4347a",
   "metadata": {},
   "outputs": [],
   "source": [
    "from matplotlib import rc\n",
    "rc('text', usetex=True)\n",
    "rc('font', serif='Times')"
   ]
  },
  {
   "cell_type": "code",
   "execution_count": 3,
   "id": "6be139fb",
   "metadata": {},
   "outputs": [],
   "source": [
    "name = ''\n",
    "name += '_cpc'\n",
    "name += '_alexnet'\n",
    "name += f'_{\"1\"}'"
   ]
  },
  {
   "cell_type": "code",
   "execution_count": 4,
   "id": "ea8f7b68",
   "metadata": {},
   "outputs": [],
   "source": [
    "def readSimilarity(fn, column_name):\n",
    "    \n",
    "    val = []\n",
    "    \n",
    "    with open(fn, 'r') as file:\n",
    "        csvreader = csv.reader(file)\n",
    "        for n, row in enumerate(csvreader):\n",
    "            if n == 0:\n",
    "                ind = np.where(np.asarray(row) == column_name)[0][0]\n",
    "            else:\n",
    "                val.append(float(row[ind]))\n",
    "                \n",
    "    return val"
   ]
  },
  {
   "cell_type": "code",
   "execution_count": 5,
   "id": "84fcd416",
   "metadata": {},
   "outputs": [],
   "source": [
    "palette = {}\n",
    "data = []"
   ]
  },
  {
   "cell_type": "code",
   "execution_count": 6,
   "id": "c234c881",
   "metadata": {},
   "outputs": [
    {
     "ename": "FileNotFoundError",
     "evalue": "[Errno 2] No such file or directory: 'familiar_analysis_cpc_alexnet_1.csv'",
     "output_type": "error",
     "traceback": [
      "\u001b[0;31m---------------------------------------------------------------------------\u001b[0m",
      "\u001b[0;31mFileNotFoundError\u001b[0m                         Traceback (most recent call last)",
      "Input \u001b[0;32mIn [6]\u001b[0m, in \u001b[0;36m<cell line: 4>\u001b[0;34m()\u001b[0m\n\u001b[1;32m      2\u001b[0m label_name \u001b[38;5;241m=\u001b[39m \u001b[38;5;124mr\u001b[39m\u001b[38;5;124m'\u001b[39m\u001b[38;5;124mA: Familiar audio -- familiar image\u001b[39m\u001b[38;5;124m'\u001b[39m\n\u001b[1;32m      3\u001b[0m palette[label_name] \u001b[38;5;241m=\u001b[39m \u001b[38;5;124m'\u001b[39m\u001b[38;5;124mtab:red\u001b[39m\u001b[38;5;124m'\u001b[39m\n\u001b[0;32m----> 4\u001b[0m seen_matched \u001b[38;5;241m=\u001b[39m \u001b[43mreadSimilarity\u001b[49m\u001b[43m(\u001b[49m\u001b[43mPath\u001b[49m\u001b[43m(\u001b[49m\u001b[38;5;124;43mf\u001b[39;49m\u001b[38;5;124;43m'\u001b[39;49m\u001b[38;5;124;43mfamiliar_analysis\u001b[39;49m\u001b[38;5;132;43;01m{\u001b[39;49;00m\u001b[43mname\u001b[49m\u001b[38;5;132;43;01m}\u001b[39;49;00m\u001b[38;5;124;43m.csv\u001b[39;49m\u001b[38;5;124;43m'\u001b[39;49m\u001b[43m)\u001b[49m\u001b[43m,\u001b[49m\u001b[43m \u001b[49m\u001b[38;5;124;43m'\u001b[39;49m\u001b[38;5;124;43msimilarity_A\u001b[39;49m\u001b[38;5;124;43m'\u001b[39;49m\u001b[43m)\u001b[49m\n\u001b[1;32m      5\u001b[0m data \u001b[38;5;241m=\u001b[39m [[label_name, v] \u001b[38;5;28;01mfor\u001b[39;00m v \u001b[38;5;129;01min\u001b[39;00m seen_matched]\n",
      "Input \u001b[0;32mIn [4]\u001b[0m, in \u001b[0;36mreadSimilarity\u001b[0;34m(fn, column_name)\u001b[0m\n\u001b[1;32m      1\u001b[0m \u001b[38;5;28;01mdef\u001b[39;00m \u001b[38;5;21mreadSimilarity\u001b[39m(fn, column_name):\n\u001b[1;32m      3\u001b[0m     val \u001b[38;5;241m=\u001b[39m []\n\u001b[0;32m----> 5\u001b[0m     \u001b[38;5;28;01mwith\u001b[39;00m \u001b[38;5;28;43mopen\u001b[39;49m\u001b[43m(\u001b[49m\u001b[43mfn\u001b[49m\u001b[43m,\u001b[49m\u001b[43m \u001b[49m\u001b[38;5;124;43m'\u001b[39;49m\u001b[38;5;124;43mr\u001b[39;49m\u001b[38;5;124;43m'\u001b[39;49m\u001b[43m)\u001b[49m \u001b[38;5;28;01mas\u001b[39;00m file:\n\u001b[1;32m      6\u001b[0m         csvreader \u001b[38;5;241m=\u001b[39m csv\u001b[38;5;241m.\u001b[39mreader(file)\n\u001b[1;32m      7\u001b[0m         \u001b[38;5;28;01mfor\u001b[39;00m n, row \u001b[38;5;129;01min\u001b[39;00m \u001b[38;5;28menumerate\u001b[39m(csvreader):\n",
      "\u001b[0;31mFileNotFoundError\u001b[0m: [Errno 2] No such file or directory: 'familiar_analysis_cpc_alexnet_1.csv'"
     ]
    }
   ],
   "source": [
    "# seen matched\n",
    "label_name = r'A: Familiar audio -- familiar image'\n",
    "palette[label_name] = 'tab:red'\n",
    "seen_matched = readSimilarity(Path(f'familiar_analysis{name}.csv'), 'similarity_A')\n",
    "data = [[label_name, v] for v in seen_matched]"
   ]
  },
  {
   "cell_type": "code",
   "execution_count": null,
   "id": "0325ba5a",
   "metadata": {},
   "outputs": [],
   "source": [
    "# seen mismatched\n",
    "label_name = r'B: Familiar audio -- familiar$^*$ image'\n",
    "palette[label_name] = 'tab:red'\n",
    "seen_mismatched = readSimilarity(Path(f'familiar_mismatched_analysis{name}.csv'), 'similarity_A')\n",
    "data.extend([[label_name, v] for v in seen_mismatched])"
   ]
  },
  {
   "cell_type": "code",
   "execution_count": null,
   "id": "24915224",
   "metadata": {},
   "outputs": [],
   "source": [
    "# unseen->unseen\n",
    "label_name = r'C: Novel audio -- novel image'\n",
    "palette[label_name] = 'tab:green'\n",
    "unseen_to_unseen = readSimilarity(Path(f'me_analysis{name}.csv'), 'similarity_A')\n",
    "data.extend([[label_name, v] for v in unseen_to_unseen])\n",
    "mismatched_unseen_to_unseen = readSimilarity(Path(f'me_mismatched_analysis{name}.csv'), 'similarity_A')\n",
    "data.extend([[label_name, v] for v in mismatched_unseen_to_unseen])"
   ]
  },
  {
   "cell_type": "code",
   "execution_count": null,
   "id": "2dc66941",
   "metadata": {},
   "outputs": [],
   "source": [
    "# unseen->seen\n",
    "label_name = r'D: Novel audio -- familiar image'\n",
    "palette[label_name] = 'tab:green'\n",
    "unseen_to_seen = readSimilarity(Path(f'files/me_analysis{name}.csv'), 'similarity_B')\n",
    "data.extend([[label_name, v]  for v in unseen_to_seen])\n",
    "mismatched_unseen_to_seen = readSimilarity(Path(f'files/me_mismatched_analysis{name}.csv'), 'similarity_B')\n",
    "data.extend([[label_name, v] for v in mismatched_unseen_to_seen])"
   ]
  },
  {
   "cell_type": "code",
   "execution_count": null,
   "id": "512686d9",
   "metadata": {},
   "outputs": [],
   "source": [
    "df = pd.DataFrame(data, columns=[\"label\", \"Similarity score\"]\n",
    ")"
   ]
  },
  {
   "cell_type": "code",
   "execution_count": null,
   "id": "586ae321",
   "metadata": {},
   "outputs": [],
   "source": [
    "fig = plt.figure(figsize=(15, 5))\n",
    "sns.set_style(style='white')\n",
    "f = sns.kdeplot(\n",
    "    df, x=\"Similarity score\", hue=\"label\", common_norm=False, legend=True, linewidth=2.5, \n",
    "    palette=palette, log_scale=False,\n",
    ")\n",
    "\n",
    "lss = [':', '-', ':', '-']\n",
    "\n",
    "handles = f.legend_.legendHandles[::-1]\n",
    "\n",
    "for line, ls, handle in zip(f.lines, lss, handles):\n",
    "    line.set_linestyle(ls)\n",
    "    handle.set_ls(ls)\n",
    "    \n",
    "subs = f.lines\n",
    "nums = ['D', 'C', 'B', 'A']\n",
    "for i in range(len(subs)):\n",
    "    x = subs[i].get_xdata() \n",
    "    y = subs[i].get_ydata() \n",
    "    c = subs[i].get_color()\n",
    "    maxid = np.argmax(y) \n",
    "    \n",
    "    plt.annotate(f'{nums[i]}', (x[maxid]-1, y[maxid]+0.0005), c=c, fontsize=30, ha='center', annotation_clip=False)\n",
    "\n",
    "sns.move_legend(f, \"lower center\", ncol=2, bbox_to_anchor=(0.5, -0.6), title='', frameon=True, fontsize=22)\n",
    "start = -10\n",
    "end = 100\n",
    "plt.xlim(start, end)\n",
    "xs = []\n",
    "for i in range(start, end+10, 10):\n",
    "    xs.append(i)\n",
    "# xs = [0, 10, 20, 30, 40, 50, 60, 70, 80, 90, 100, 110, 120, 130, 140, 150]\n",
    "plt.xticks(xs, fontsize=20)\n",
    "plt.yticks(fontsize=20)\n",
    "plt.ylabel('Density', fontsize=26, labelpad=24)\n",
    "plt.xlabel('Similarity', fontsize=26, labelpad=24)\n",
    "axes = plt.gca()\n",
    "axes.spines[['top', 'right']].set_visible(False) \n",
    "plt.savefig(f'figures/similarity_densities{name}.pdf',bbox_inches='tight')"
   ]
  },
  {
   "cell_type": "code",
   "execution_count": null,
   "id": "4388b6fc",
   "metadata": {},
   "outputs": [],
   "source": []
  },
  {
   "cell_type": "code",
   "execution_count": null,
   "id": "42ce46cb",
   "metadata": {},
   "outputs": [],
   "source": []
  }
 ],
 "metadata": {
  "kernelspec": {
   "display_name": "Python 3 (ipykernel)",
   "language": "python",
   "name": "python3"
  },
  "language_info": {
   "codemirror_mode": {
    "name": "ipython",
    "version": 3
   },
   "file_extension": ".py",
   "mimetype": "text/x-python",
   "name": "python",
   "nbconvert_exporter": "python",
   "pygments_lexer": "ipython3",
   "version": "3.9.12"
  }
 },
 "nbformat": 4,
 "nbformat_minor": 5
}

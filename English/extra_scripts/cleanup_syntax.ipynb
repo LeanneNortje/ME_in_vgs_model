{
 "cells": [
  {
   "cell_type": "code",
   "execution_count": 1,
   "id": "a46400c4",
   "metadata": {},
   "outputs": [],
   "source": [
    "from pathlib import Path\n",
    "import pickle"
   ]
  },
  {
   "cell_type": "code",
   "execution_count": 2,
   "id": "468866c2",
   "metadata": {},
   "outputs": [],
   "source": [
    "# for args_fn in Path('model_metadata').rglob('*/args.pkl'):\n",
    "#     print(args_fn)\n",
    "#     with open(args_fn, \"rb\") as f:\n",
    "#         args = pickle.load(f)\n",
    "#         base_dir = Path(\"model_metadata\")    \n",
    "#         model_particulars = f'{args[\"model_name\"]}' \n",
    "#         print(int(args_fn.parent.stem))\n",
    "# #         break\n",
    "# #         args[\"instance\"] = 1\n",
    "# #         args[\"exp_dir\"] = base_dir / model_particulars / str(args[\"instance\"])\n",
    "# #         print(args['exp_dir'])\n",
    "# #         args[\"instance\"] = 1\n",
    "# #         with open(args[\"exp_dir\"] / \"args.pkl\", \"wb\") as f:\n",
    "# #             pickle.dump(args, f)"
   ]
  },
  {
   "cell_type": "raw",
   "id": "4db1011d",
   "metadata": {},
   "source": []
  },
  {
   "cell_type": "code",
   "execution_count": 4,
   "id": "3a98c8b9",
   "metadata": {},
   "outputs": [],
   "source": [
    "import os\n",
    "\n",
    "scores = {} # scores is an empty dict already\n",
    "\n",
    "for args_fn in Path('model_metadata').rglob('*/args.pkl'):\n",
    "    if int(args_fn.parent.stem) == 4:\n",
    "        if os.path.getsize(args_fn) > 0:      \n",
    "            with open(args_fn, \"rb\") as f:\n",
    "                unpickler = pickle.Unpickler(f)\n",
    "                # if file is not empty scores will be equal\n",
    "                # to the value unpickled\n",
    "                scores = unpickler.load()\n"
   ]
  },
  {
   "cell_type": "code",
   "execution_count": 5,
   "id": "bbda2554",
   "metadata": {},
   "outputs": [
    {
     "data": {
      "text/plain": [
       "{'data_train': PosixPath('data/english_train.json'),\n",
       " 'data_val': PosixPath('data/english_val.json'),\n",
       " 'data_test': PosixPath('data/novel_points.json'),\n",
       " 'episodes_test': 'data/test_episodes.npz',\n",
       " 'data_path': 'data/spokencoco',\n",
       " 'optimizer': 'adam',\n",
       " 'batch_size': 64,\n",
       " 'momentum': 0.9,\n",
       " 'weight_decay': 5e-07,\n",
       " 'n_epochs': 100,\n",
       " 'image_model': 'Resnet50',\n",
       " 'pretrained_image_model': True,\n",
       " 'margin': 1.0,\n",
       " 'loss': 'matchmap',\n",
       " 'alphas': [1.5, 1.2, 1.5, 1.2, 2.5, 2.5],\n",
       " 'simtype': 'MISA',\n",
       " 'pretrained_alexnet': True,\n",
       " 'learning_rate_scheduler': {'initial_learning_rate': 0.0001,\n",
       "  'num_epochs': [10, 50, 70, 80],\n",
       "  'learning_rates': [0.0001, 0.0001, 1e-05, 1e-05],\n",
       "  'decay_every_n_epochs': 10,\n",
       "  'decay_factor': 0.95},\n",
       " 'image_config': {'crop_size': 224,\n",
       "  'center_crop': False,\n",
       "  'RGB_mean': [0.485, 0.456, 0.406],\n",
       "  'RGB_std': [0.229, 0.224, 0.225]},\n",
       " 'audio_config': {'audio_type': 'melspectrogram',\n",
       "  'preemph_coef': 0.97,\n",
       "  'sample_rate': 16000,\n",
       "  'window_size': 0.025,\n",
       "  'window_stride': 0.01,\n",
       "  'window_type': 'hamming',\n",
       "  'num_mel_bins': 40,\n",
       "  'target_length': 256,\n",
       "  'use_raw_length': False,\n",
       "  'padval': 0,\n",
       "  'fmin': 20},\n",
       " 'audio_model': {'name': 'Transformer',\n",
       "  'z_dim': 64,\n",
       "  'c_dim': 512,\n",
       "  'embedding_dim': 2048,\n",
       "  'num_heads': 8},\n",
       " 'cpc': {'warm_start': True,\n",
       "  'n_sample_frames': 128,\n",
       "  'n_utterances_per_speaker': 8,\n",
       "  'hop_length': 160,\n",
       "  'n_prediction_steps': 6,\n",
       "  'n_speakers_per_batch': 4,\n",
       "  'n_negatives': 17,\n",
       "  'load_pretrained_weights': True,\n",
       "  'pretrained_weights': 'epoch_1500'},\n",
       " 'model_name': 'f613809f5c',\n",
       " 'exp_dir': PosixPath('model_metadata/f613809f5c/4'),\n",
       " 'acoustic_model': {'in_channels': 40,\n",
       "  'out_channels': 64,\n",
       "  'kernel_size': 4,\n",
       "  'stride': 2,\n",
       "  'padding': 1},\n",
       " 'instance': 4}"
      ]
     },
     "execution_count": 5,
     "metadata": {},
     "output_type": "execute_result"
    }
   ],
   "source": [
    "scores"
   ]
  },
  {
   "cell_type": "code",
   "execution_count": null,
   "id": "37c45004",
   "metadata": {},
   "outputs": [],
   "source": []
  }
 ],
 "metadata": {
  "kernelspec": {
   "display_name": "Python 3 (ipykernel)",
   "language": "python",
   "name": "python3"
  },
  "language_info": {
   "codemirror_mode": {
    "name": "ipython",
    "version": 3
   },
   "file_extension": ".py",
   "mimetype": "text/x-python",
   "name": "python",
   "nbconvert_exporter": "python",
   "pygments_lexer": "ipython3",
   "version": "3.9.12"
  }
 },
 "nbformat": 4,
 "nbformat_minor": 5
}
